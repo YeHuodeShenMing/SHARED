{
 "cells": [
  {
   "cell_type": "markdown",
   "id": "16cb47a2",
   "metadata": {},
   "source": [
    "## 作业目录\n",
    "### 1.Numpy\n",
    "#### 1.1 一维数组创建\n",
    "#### 1.2 多维数组创建\n",
    "#### 1.3 创建全零数组\n",
    "#### 1.4 创建连续数组\n",
    "#### 1.5 列表转为矩阵\n",
    "#### 1.6 reshape操作\n",
    "#### 1.7 得到矩阵的维度\n",
    "#### 1.8 行数和列数\n",
    "#### 1.9 元素个数\n",
    "#### 1.10 一维矩阵运算\n",
    "#### 1.11 多维矩阵运算\n",
    "#### 1.12 矩阵的极值索引\n",
    "#### 1.13 Numpy切片\n",
    "#### 1.14 矩阵的垂直堆叠\n",
    "#### 1.15 矩阵的水平堆叠\n",
    "#### 1.16 多个矩阵堆叠\n",
    "### 2.Pandas\n",
    "#### 2.1 Series创建\n",
    "#### 2.2 DataFrame创建\n",
    "#### 2.3 DataFrame的简单运用\n",
    "#### 2.4 根据位置设置loc和iloc\n",
    "#### 2.5 根据条件设置\n",
    "#### 2.6 添加Series序列\n",
    "#### 2.7 修改一整行数据\n",
    "### 3. matplotlib\n",
    "#### 3.1 绘制指定函数的图像\n",
    "#### 3.2 使用不同颜色绘制不同函数的图像\n",
    "#### 3.3 绘制散点图\n",
    "#### 3.4 绘制柱状图\n",
    "#### 3.5 绘制折线图\n",
    "### 4 scipy\n",
    "#### 4.1 计算特征值和特征向量\n",
    "#### 4.2 奇异值分解\n",
    "### 5 Seaborn\n",
    "#### 5.1 绘制折线图\n",
    "#### 5.2 绘制散点图\n",
    "#### 5.3 绘制热力图"
   ]
  },
  {
   "cell_type": "code",
   "execution_count": null,
   "id": "ef3fab6d",
   "metadata": {},
   "outputs": [],
   "source": [
    "# 例：导入numpy库，直接在当前单元格内输入代码并运行\n",
    "import numpy as np"
   ]
  },
  {
   "cell_type": "code",
   "execution_count": null,
   "id": "206ad8ef",
   "metadata": {},
   "outputs": [],
   "source": [
    "# 1.1 创建一个包含有三个元素：1,2,3的一维array，打印出创建的array\n",
    "a1D = np.array([1,2,3])\n",
    "print(a1D)"
   ]
  },
  {
   "cell_type": "code",
   "execution_count": null,
   "id": "a9d10708",
   "metadata": {},
   "outputs": [],
   "source": [
    "# 1.2 创建一个三行两列的array，打印出创建的array\n",
    "a2D_1 = np.array([[1,2],[3,4],[5,6]])\n",
    "print(a2D_1)"
   ]
  },
  {
   "cell_type": "code",
   "execution_count": null,
   "id": "cc8d6596",
   "metadata": {},
   "outputs": [],
   "source": [
    "# 1.3 创建一个三行三列的全零array，打印出创建的array\n",
    "a2D_2 = np.array([[0,0,0],[0,0,0],[0,0,0]])\n",
    "print(a2D_2)"
   ]
  },
  {
   "cell_type": "code",
   "execution_count": null,
   "id": "03b2e3e3",
   "metadata": {},
   "outputs": [],
   "source": [
    "# 1.4 创建连续数组, 使用arange()函数创建一个从5-36的整数组成的array，步长为5，打印出创建的array\n",
    "consist_array = np.arange(5,36,5)\n",
    "print(consist_array)"
   ]
  },
  {
   "cell_type": "code",
   "execution_count": null,
   "id": "32c5c426",
   "metadata": {},
   "outputs": [],
   "source": [
    "# 1.5 列表转为矩阵，把[10,20,30,40,50,60]这个列表转化为array\n",
    "arr = np.array([[10,20,30,40,50,60]])\n",
    "print(arr)\n"
   ]
  },
  {
   "cell_type": "code",
   "execution_count": null,
   "id": "b5070141",
   "metadata": {},
   "outputs": [],
   "source": [
    "# 1.6 reshape操作，使用reshape改变习题1.5创建的array形状至两行三列，打印出创建的array\n",
    "arr_shaped = arr.reshape(2,3)\n",
    "print(arr_shaped)"
   ]
  },
  {
   "cell_type": "code",
   "execution_count": null,
   "id": "8ffe8779",
   "metadata": {},
   "outputs": [],
   "source": [
    "# 1.7 得到矩阵的维度，打印出习题1.6生成的矩阵的维度(ndim)\n",
    "print(arr_shaped.ndim)"
   ]
  },
  {
   "cell_type": "code",
   "execution_count": null,
   "id": "9ba8f35d",
   "metadata": {},
   "outputs": [],
   "source": [
    "# 1.8 行数和列数，打印出题目1.6生成的矩阵的行数和列数\n",
    "print(arr_shaped.shape[0],arr_shaped.shape[1])"
   ]
  },
  {
   "cell_type": "code",
   "execution_count": null,
   "id": "1d6a9299",
   "metadata": {},
   "outputs": [],
   "source": [
    "# 1.9 元素个数,打印出题目1.6生成的矩阵的元素个数\n",
    "print(arr_shaped.size)"
   ]
  },
  {
   "cell_type": "code",
   "execution_count": null,
   "id": "1598d59e",
   "metadata": {},
   "outputs": [],
   "source": [
    "# 1.10 一维矩阵的运算\n",
    "a = np.random.rand(4)\n",
    "b = np.random.rand(4)\n",
    "print(a+b)\n",
    "# 打印出a矩阵加b矩阵的结果"
   ]
  },
  {
   "cell_type": "code",
   "execution_count": null,
   "id": "036327ab",
   "metadata": {},
   "outputs": [],
   "source": [
    "# 1.11 一维矩阵的运算\n",
    "a = np.random.rand(4, 1)\n",
    "b = np.random.rand(1, 4)\n",
    "# 打印出a矩阵加b矩阵和a矩阵点乘b矩阵的结果\n",
    "print(np.dot(a,b))"
   ]
  },
  {
   "cell_type": "code",
   "execution_count": null,
   "id": "b6c34e2f",
   "metadata": {},
   "outputs": [],
   "source": [
    "# 1.12 矩阵的极值索引\n",
    "a = np.random.rand(2,6).reshape((3,4))\n",
    "print(a.argmax())\n",
    "# 打印出矩阵A的最大元素的索引位置\n"
   ]
  },
  {
   "cell_type": "code",
   "execution_count": null,
   "id": "2cd066a9",
   "metadata": {},
   "outputs": [],
   "source": [
    "# 1.13 Numpy切片\n",
    "a = np.random.rand(12)\n",
    "# 打印出从索引位置从2到10的元素所组成的矩阵\n",
    "print(a[2:11])"
   ]
  },
  {
   "cell_type": "code",
   "execution_count": null,
   "id": "5266439c",
   "metadata": {},
   "outputs": [],
   "source": [
    "# 1.14 矩阵的垂直堆叠\n",
    "a = np.random.rand(2,3)\n",
    "b = np.random.rand(2,3)\n",
    "# 垂直堆叠（上下合并）两个矩阵，并打印出结果\n",
    "a_above_b = np.vstack((a,b))\n",
    "print(a_above_b)\n"
   ]
  },
  {
   "cell_type": "code",
   "execution_count": null,
   "id": "154035da",
   "metadata": {},
   "outputs": [],
   "source": [
    "# 1.15 矩阵的水平堆叠\n",
    "a = np.random.rand(2,3)\n",
    "b = np.random.rand(2,3)\n",
    "# 水平堆叠（左右合并）两个矩阵，并打印出结果\n",
    "a_left_b = np.hstack((a,b))\n",
    "print(a_left_b)"
   ]
  },
  {
   "cell_type": "code",
   "execution_count": null,
   "id": "2abd8f4d",
   "metadata": {},
   "outputs": [],
   "source": [
    "# 1.16 多个矩阵堆叠\n",
    "a = np.random.rand(2,3)\n",
    "b = np.random.rand(2,3)\n",
    "c = np.random.rand(4,3)\n",
    "# 先垂直堆叠a,b再把得到的结果和c水平堆叠\n",
    "# print(f\"{a}\\n{b}\\n{c}\")\n",
    "a_above_b = np.vstack((a,b))\n",
    "a_b_left_c = np.hstack((a_above_b,c))\n",
    "print(a_b_left_c)"
   ]
  },
  {
   "cell_type": "code",
   "execution_count": null,
   "id": "cb4ffe86",
   "metadata": {},
   "outputs": [],
   "source": [
    "import pandas as pd"
   ]
  },
  {
   "cell_type": "code",
   "execution_count": null,
   "id": "25cfe134",
   "metadata": {},
   "outputs": [],
   "source": [
    "# 2.1 Series创建，创建一个由[1, 2, 3, 4, 5]组成的Series，并打印出创建的Series\n",
    "s = pd.Series([1,2,3,4,5])\n",
    "print(s)"
   ]
  },
  {
   "cell_type": "code",
   "execution_count": null,
   "id": "c84742e3",
   "metadata": {},
   "outputs": [],
   "source": [
    "# 2.2 DataFrame创建, \n",
    "data = {'A': [1, 2, 3, 4],\n",
    "        'B': ['a', 'b', 'c', 'd']}\n",
    "# A和B分别为两个列，创建的DataFrame应为：\n",
    "#    A  B\n",
    "# 0  1  a\n",
    "# 1  2  b\n",
    "# 2  3  c\n",
    "# 3  4  d\n",
    "#创建并打印出DataFrame创建\n",
    "df1 = pd.DataFrame(data)\n",
    "print(df1)"
   ]
  },
  {
   "cell_type": "code",
   "execution_count": null,
   "id": "6b5f193f",
   "metadata": {},
   "outputs": [],
   "source": [
    "# 2.3 DataFrame的简单运用，根据习题2.2的结果，打印出第B列的元素的值\n",
    "df_b = df1[\"B\"]\n",
    "print(df_b)"
   ]
  },
  {
   "cell_type": "code",
   "execution_count": null,
   "id": "0993acaa",
   "metadata": {},
   "outputs": [],
   "source": [
    "dates = pd.date_range('20180820',periods=6)\n",
    "df = pd.DataFrame(np.arange(24).reshape(6,4), index=dates, columns=['A','B','C','D'])\n",
    "print(df)"
   ]
  },
  {
   "cell_type": "code",
   "execution_count": null,
   "id": "a912a435",
   "metadata": {},
   "outputs": [],
   "source": [
    "# 2.4 根据位置设置loc和iloc,根据上一个cell运行的结果，将df中第一行(2018-08-20)第二列('B')的值设为10，打印出修改后的df\n",
    "df.iloc[0,1] = 10\n",
    "print(df)"
   ]
  },
  {
   "cell_type": "code",
   "execution_count": null,
   "id": "58a58e62",
   "metadata": {},
   "outputs": [],
   "source": [
    "# 2.5 根据条件设置, 在习题2.4的基础上，将df中第二列('B')中大于5的元素全部置为0，打印出修改后的df\n",
    "df.loc[df.B>5,\"B\"]=0\n",
    "print(df)"
   ]
  },
  {
   "cell_type": "code",
   "execution_count": null,
   "id": "8b7b786e",
   "metadata": {},
   "outputs": [],
   "source": [
    "# 2.6 添加Series序列，在习题2.5的基础上，将[1,2,3,4,5,6]作为一列插入到df的最后一列后，列的名称为E，打印出修改后的df\n",
    "added = pd.Series([1,2,3,4,5,6],index=dates)\n",
    "df[\"E\"]=added\n",
    "print(df)"
   ]
  },
  {
   "cell_type": "code",
   "execution_count": null,
   "id": "49ac0a79",
   "metadata": {},
   "outputs": [],
   "source": [
    "# 2.7 修改一整行数据，在习题2.6的基础上，将第一行的数据全部置为0，打印出修改后的df\n",
    "df.loc[:,[\"A\"]]= 0\n",
    "print(df)"
   ]
  },
  {
   "cell_type": "code",
   "execution_count": null,
   "id": "1d4b0775",
   "metadata": {},
   "outputs": [],
   "source": [
    "import  matplotlib.pyplot as plt\n",
    "import numpy as np"
   ]
  },
  {
   "cell_type": "code",
   "execution_count": null,
   "id": "3699d988",
   "metadata": {},
   "outputs": [],
   "source": [
    "# 3.1 绘制指定函数的图像，绘制y=x**2函数的图像\n",
    "x=np.linspace(-10,10,100)\n",
    "plt.plot(x,x**2,label=\"y = x^2\")"
   ]
  },
  {
   "cell_type": "code",
   "execution_count": null,
   "id": "396ba292",
   "metadata": {},
   "outputs": [],
   "source": [
    "# 3.2 使用不同的颜色绘制不同函数的图像，分别y1=2*x+1和y2=x**2这两个函数的图像，要求两个图像的颜色不同\n"
   ]
  },
  {
   "cell_type": "code",
   "execution_count": null,
   "id": "03f8c5d5",
   "metadata": {},
   "outputs": [],
   "source": [
    "# 3.3 绘制散点图，给出点的坐标列表：points = [(1, 2), (2, 3), (3, 5), (4, 7), (5, 11)]，绘制出散点图\n"
   ]
  },
  {
   "cell_type": "code",
   "execution_count": null,
   "id": "52ec2011",
   "metadata": {},
   "outputs": [],
   "source": [
    "# 3.4 绘制柱状图，给出类别和对应的值，categories = ['A', 'B', 'C', 'D', 'E'], values = [10, 20, 15, 25, 30]，绘制出柱状图\n"
   ]
  },
  {
   "cell_type": "code",
   "execution_count": null,
   "id": "49a93439",
   "metadata": {},
   "outputs": [],
   "source": [
    "# 3.5 绘制折线图，给出点的坐标列表：points = [(1, 2), (2, 3), (3, 5), (4, 7), (5, 11)]，绘制出折线图\n"
   ]
  },
  {
   "cell_type": "code",
   "execution_count": null,
   "id": "6172f977",
   "metadata": {},
   "outputs": [],
   "source": [
    "from scipy import linalg"
   ]
  },
  {
   "cell_type": "code",
   "execution_count": null,
   "id": "8ab45ff4",
   "metadata": {},
   "outputs": [],
   "source": [
    "# 4.1 计算特征值和特征向量，\n",
    "A = np.array([[1, -0.3], [-0.1, 0.9]])\n",
    "# 打印出A的特征值和特征向量"
   ]
  },
  {
   "cell_type": "code",
   "execution_count": null,
   "id": "9c4a4e7c",
   "metadata": {},
   "outputs": [],
   "source": [
    "# 4.2 奇异值分解\n",
    "A = np.array([[1, 2, 3],\n",
    "              [4, 5, 6],\n",
    "              [7, 8, 9]])\n",
    "# 打印出奇异值分解后的U，Σ，V"
   ]
  },
  {
   "cell_type": "code",
   "execution_count": null,
   "id": "e8081fb9",
   "metadata": {},
   "outputs": [],
   "source": [
    "import seaborn as sns\n",
    "import matplotlib.pyplot as plt"
   ]
  },
  {
   "cell_type": "code",
   "execution_count": null,
   "id": "3c87122d",
   "metadata": {},
   "outputs": [],
   "source": [
    "# 5.1 使用Seaborn绘制折线图， 给出点的坐标列表：points = [(1, 2), (2, 3), (3, 5), (4, 7), (5, 11)]，绘制出折线图\n"
   ]
  },
  {
   "cell_type": "code",
   "execution_count": null,
   "id": "e2b892d6",
   "metadata": {},
   "outputs": [],
   "source": [
    "# 5.2 使用Seaborn绘制折线图， 给出点的坐标列表：points = [(1, 2), (2, 3), (3, 5), (4, 7), (5, 11)]，绘制出散点图\n"
   ]
  },
  {
   "cell_type": "code",
   "execution_count": null,
   "id": "3f406bf8",
   "metadata": {},
   "outputs": [],
   "source": [
    "# 5.3 使用Seaborn绘制热力图\n",
    "a = [[1, 2, 3],\n",
    "        [4, 5, 6],\n",
    "        [7, 8, 9]]\n",
    "# 绘制出a的热力图"
   ]
  },
  {
   "cell_type": "code",
   "execution_count": null,
   "id": "74c50431",
   "metadata": {},
   "outputs": [],
   "source": []
  }
 ],
 "metadata": {
  "kernelspec": {
   "display_name": "Python 3",
   "language": "python",
   "name": "python3"
  },
  "language_info": {
   "codemirror_mode": {
    "name": "ipython",
    "version": 3
   },
   "file_extension": ".py",
   "mimetype": "text/x-python",
   "name": "python",
   "nbconvert_exporter": "python",
   "pygments_lexer": "ipython3",
   "version": "3.11.7"
  }
 },
 "nbformat": 4,
 "nbformat_minor": 5
}
